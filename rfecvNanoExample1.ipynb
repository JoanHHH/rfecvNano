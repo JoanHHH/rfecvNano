{
 "cells": [
  {
   "cell_type": "markdown",
   "metadata": {},
   "source": [
    "## Predictive power of dimensionless features \n",
    "The transport of nanomaterials is difficult to predict. Using our developed machine learning tools, let's investigate if prediction is more powerful when we seperate the parameters than if we arrange the parameters as dimensionless ratios. \n"
   ]
  },
  {
   "cell_type": "markdown",
   "metadata": {},
   "source": [
    "### Let's import a bunch of packages"
   ]
  },
  {
   "cell_type": "code",
   "execution_count": 128,
   "metadata": {
    "collapsed": true
   },
   "outputs": [],
   "source": [
    "%matplotlib inline\n",
    "import multiprocessing\n",
    "import numpy as np\n",
    "multiprocessing.cpu_count()\n",
    "from helperFunctions import *\n",
    "import pandas as pd\n",
    "from sklearn.ensemble import RandomForestClassifier\n",
    "from sklearn import metrics\n",
    "from sklearn import cross_validation\n",
    "from sklearn.feature_selection import RFECV\n",
    "from sklearn.cross_validation import StratifiedKFold\n",
    "from sklearn.cross_validation import StratifiedShuffleSplit\n",
    "import matplotlib\n",
    "import matplotlib.pyplot as plt\n",
    "from biokit.viz import corrplot\n",
    "matplotlib.rcParams['figure.dpi'] = 120\n",
    "matplotlib.rcParams['figure.figsize'] = (8,6)"
   ]
  },
  {
   "cell_type": "markdown",
   "metadata": {},
   "source": [
    "### Let's import a database! \n",
    "#### Notice that the List of features includes:\n",
    "*  ObsRPShape\n",
    "*  Poros\n",
    "*  Darcy\n",
    "*  ConcIn\n",
    "*  PvIn\n",
    "*  pH\n",
    "*  IonStr\n",
    "*  SaltType\n",
    "*  ColumnLWRatio\n",
    "*  PartDensity \n",
    "*  PartIEP * Bullet pHIEPDist \n",
    "*  PartZeta \n",
    "*  CollecZeta\n",
    "*  PartDiam\n",
    "*  CollecDiam\n",
    "*  PartCollSizeRatio \n",
    "*  Coating \n",
    "*  ConcHA \n",
    "*  TypeNOM \n",
    "*  Hamaker\n",
    "*  Dispersivity\n",
    "*  NanoSize\n",
    "*  mbEffluent\n",
    "*  mbRetained\n",
    "*  mbEffluent_norm\n",
    "*  mbRetained_norm"
   ]
  },
  {
   "cell_type": "code",
   "execution_count": 129,
   "metadata": {
    "collapsed": true
   },
   "outputs": [],
   "source": [
    "# locate the csv database\n",
    "path = './transportData.csv'\n",
    "\n",
    "# Import the csv as a dataframe.\n",
    "data = pd.DataFrame.from_csv(path, header=0, sep=',', \n",
    "                             index_col=0, parse_dates=True, encoding=None,\n",
    "                               tupleize_cols=False, infer_datetime_format=False)"
   ]
  },
  {
   "cell_type": "markdown",
   "metadata": {},
   "source": [
    "### Not all the features are sufficient to support ML (our database is small anyway), so let's drop some features. This consistutes the first drop round."
   ]
  },
  {
   "cell_type": "code",
   "execution_count": 130,
   "metadata": {
    "collapsed": true
   },
   "outputs": [],
   "source": [
    "featuresToDrop = ['Hamaker','Dispersivity','NanoSize','pHIEPDist',\n",
    "                  'PartCollSizeRatio','ColumnLWRatio',\n",
    "                  'mbEffluent', 'mbRetained','mbEffluent_norm']\n",
    "data = data.drop(featuresToDrop,1)"
   ]
  },
  {
   "cell_type": "markdown",
   "metadata": {},
   "source": [
    "### Let's put the data we can into our dimensionless quantities. "
   ]
  },
  {
   "cell_type": "code",
   "execution_count": 131,
   "metadata": {
    "collapsed": false
   },
   "outputs": [],
   "source": [
    "data['tempKelvin'] = 298.15 # the temperature is always assumed to be 25 degrees.\n",
    "data['relPermValue'] = data.apply(relPermittivity,axis=1) # Calculate the rel permittivity \n",
    "data['debyeLength'] = data.apply(debyeLength,axis=1) # Calculate the debye length\n",
    "data['pecletNumber'] = data.apply(pecletNumber,axis=1)\n",
    "data['aspectRatio'] = data.PartDiam/data.CollecDiam\n",
    "data['zetaRatio'] = data.PartZeta/data.CollecZeta\n",
    "data['pHIepRatio'] = data.pH/data.PartIEP"
   ]
  },
  {
   "cell_type": "markdown",
   "metadata": {},
   "source": [
    "### Factorize the remaining training data fields to turn categories into numbers. "
   ]
  },
  {
   "cell_type": "code",
   "execution_count": 132,
   "metadata": {
    "collapsed": true
   },
   "outputs": [],
   "source": [
    "data['Coating'] = data['Coating'].factorize()[0]\n",
    "data['SaltType'] = data['Coating'].factorize()[0]\n",
    "data['NMId'] = data['NMId'].factorize()[0]\n",
    "data['TypeNOM'] = data['TypeNOM'].factorize()[0]"
   ]
  },
  {
   "cell_type": "markdown",
   "metadata": {},
   "source": [
    "### Do not include any experiments which have null values."
   ]
  },
  {
   "cell_type": "code",
   "execution_count": 133,
   "metadata": {
    "collapsed": true
   },
   "outputs": [],
   "source": [
    "data = data.dropna()"
   ]
  },
  {
   "cell_type": "markdown",
   "metadata": {},
   "source": [
    "### Set the target data fields. In this case, the 'ObsRPShape' and the 'mbRetained_norm' (i.e., retained fration, RF)."
   ]
  },
  {
   "cell_type": "code",
   "execution_count": 134,
   "metadata": {
    "collapsed": false
   },
   "outputs": [
    {
     "name": "stdout",
     "output_type": "stream",
     "text": [
      "[0 0 0 1 0 0 2 0 2 0 0 0 1 1 1 1 1 1 3 1 1 3 3 0 0 0 0 0 4 0 0 0 0 0 0 4 0\n",
      " 0 0 3 3 3 3 0 3 0 0 4 0 3 1 3 0 3 0 4 4 4 3 0 0 0 0 4 0 0 0 0 0 0 4 0 4 4\n",
      " 0 0 0 4 4 0 0 3 0 0 0 4 0 0 0 0 4 0 0 0 0 0 0 4 3 3 3 3 3 2 3 3 3 3 4 0 0\n",
      " 2 0 2 4 0 0 3 0 0 4 1 3 0 0 0 0 0 0 0 0 0 0 0 0 0 0 0 0 0 4 0 0 4 2 4 0 0\n",
      " 3 2 0 0 0 4 0 4 4 0 4 0 0 0 0 0 4 0]\n",
      "[0 0 0 1 0 0 2 0 2 0 0 0 1 1 1 1 1 1 3 1 1 3 3 0 0 0 0 0 4 0 0 0 0 0 0 4 0\n",
      " 0 0 3 3 3 3 0 3 0 0 4 0 3 1 3 0 3 0 4 4 4 3 0 0 0 0 4 0 0 0 0 0 0 4 0 4 4\n",
      " 0 0 0 4 4 0 0 3 0 0 0 4 0 0 0 0 4 0 0 0 0 0 0 4 3 3 3 3 3 2 3 3 3 3 4 0 0\n",
      " 2 0 2 4 0 0 3 0 0 4 1 3 0 0 0 0 0 0 0 0 0 0 0 0 0 0 0 0 0 4 0 0 4 2 4 0 0\n",
      " 3 2 0 0 0 4 0 4 4 0 4 0 0 0 0 0 4 0]\n"
     ]
    }
   ],
   "source": [
    "targetDataRPShape = data['ObsRPShape'].factorize()[0] # convert text to numeric values\n",
    "print targetDataRPShape\n",
    "targetDataRPShapeUniqueList = list(set(data['ObsRPShape'].unique()))\n",
    "targetDataRF = data.mbRetained_norm\n",
    "print targetDataRPShape"
   ]
  },
  {
   "cell_type": "markdown",
   "metadata": {},
   "source": [
    "### Drop the fields that are subordinate to the calculated fields (i.e., the ones wrapped up in the dimensionless numbers (e.g., SaltType and pH are in debyelength)."
   ]
  },
  {
   "cell_type": "code",
   "execution_count": 135,
   "metadata": {
    "collapsed": false
   },
   "outputs": [
    {
     "name": "stdout",
     "output_type": "stream",
     "text": [
      "['NMId', 'Poros', 'ConcIn', 'PvIn', 'PartDensity', 'Coating', 'ConcHA', 'TypeNOM', 'debyeLength', 'pecletNumber', 'aspectRatio', 'zetaRatio', 'pHIepRatio']\n"
     ]
    }
   ],
   "source": [
    "data = data.drop(['ObsRPShape', # target value (to be predicted)\n",
    "                  'mbRetained_norm', # target value (to be predicted)\n",
    "                  'Darcy', # included in peclet number\n",
    "                  'ObsRPShape', # target value (to be predicted)\n",
    "                  'relPermValue', # perfectly correlated wiht material and include in Debye\n",
    "                  'tempKelvin', # assumed to be the same for each experiment (also in Debye)\n",
    "                  'PartZeta', # included in dimensionless ratio of zetas\n",
    "                  'PartIEP', # included in dimensionless ratio of pH to IEP\n",
    "                  'PartDiam', # included in dimensionless aspect ratio\n",
    "                  'CollecDiam', # included in dimensionless aspect ratio\n",
    "                  'CollecZeta',# included in dimensionless aspect ratio\n",
    "                  'IonStr', # included in Debye Length\n",
    "                  'SaltType',# included in Debye Length\n",
    "                  'pH'# included in dimensionless ratio of pH to IEP\n",
    "                 ],1)\n",
    "\n",
    "print list(data) # print out the remaining data field headers"
   ]
  },
  {
   "cell_type": "markdown",
   "metadata": {},
   "source": [
    "### Let's check to see how correlated our variables are!"
   ]
  },
  {
   "cell_type": "code",
   "execution_count": 136,
   "metadata": {
    "collapsed": false
   },
   "outputs": [
    {
     "name": "stdout",
     "output_type": "stream",
     "text": [
      "Computing correlation\n"
     ]
    },
    {
     "data": {
      "image/png": "[encoded data removed]",
      "text/plain": [
       "<matplotlib.figure.Figure at 0x1126bd610>"
      ]
     },
     "metadata": {},
     "output_type": "display_data"
    }
   ],
   "source": [
    "# Make sure to install biokit dependencies with requirements.txt\n",
    "# https://pypi.python.org/pypi/biokit/0.0.5\n",
    "\n",
    "c = corrplot.Corrplot(data)\n",
    "c.plot(upper='circle',fontsize = 10)\n",
    "\n"
   ]
  },
  {
   "cell_type": "markdown",
   "metadata": {
    "collapsed": false
   },
   "source": [
    "### Now that we've verified that our variables are not heavily correlated, we can develop an empirical prediction model that uses the nano transport experimental conditions to predict the outcomes. \n"
   ]
  },
  {
   "cell_type": "markdown",
   "metadata": {},
   "source": [
    "#### Assign the remaining data to the training data set. Then, Store the training data and target data as a matrices for import into ML."
   ]
  },
  {
   "cell_type": "code",
   "execution_count": 138,
   "metadata": {
    "collapsed": false
   },
   "outputs": [],
   "source": [
    "trainData = data\n",
    "trainDataMatrix = trainData.as_matrix() # all numbers, no headers\n",
    "tarDataRPShapeMatrix = tarDataRPShape\n",
    "tarDataRFMatrix =  targetDataRF.as_matrix() # all numbers, no headers\n",
    "\n",
    "# Get a list of the trainingData features remaining. This is used later for plotting etc.\n",
    "trainingDataNames =  list(trainData)\n"
   ]
  },
  {
   "cell_type": "markdown",
   "metadata": {
    "collapsed": true
   },
   "source": [
    "#### Engage the RFECV classifier function to reduce the model overfitting and investigate the influence of the parameters on the prediction score. "
   ]
  },
  {
   "cell_type": "code",
   "execution_count": null,
   "metadata": {
    "collapsed": false
   },
   "outputs": [],
   "source": [
    "# 1000 trees\n",
    "# run the model 10 times - this will take a while\n",
    "# maximum tree depth is 4 - this is a bit shallow, but less depth can speed/improve prediction\n",
    "# \n",
    "stratShuffleSplitRFECVRandomForestClassification (nEstimators= 1000,\n",
    "                                                  iterator1=10,\n",
    "                                                  minSamplesSplit=2,\n",
    "                                                  maxFeatures=None,\n",
    "                                                  maxDepth=4,\n",
    "                                                  nFolds=5,\n",
    "                                                  targetDataMatrix = tarDataRPShapeMatrix,\n",
    "                                                  trainingData = trainData,\n",
    "                                                  trainingDataMatrix = trainDataMatrix,\n",
    "                                                  SEED = 5)"
   ]
  },
  {
   "cell_type": "code",
   "execution_count": null,
   "metadata": {
    "collapsed": true
   },
   "outputs": [],
   "source": []
  },
  {
   "cell_type": "code",
   "execution_count": null,
   "metadata": {
    "collapsed": true
   },
   "outputs": [],
   "source": []
  },
  {
   "cell_type": "code",
   "execution_count": null,
   "metadata": {
    "collapsed": true
   },
   "outputs": [],
   "source": []
  },
  {
   "cell_type": "code",
   "execution_count": null,
   "metadata": {
    "collapsed": true
   },
   "outputs": [],
   "source": []
  },
  {
   "cell_type": "code",
   "execution_count": null,
   "metadata": {
    "collapsed": true
   },
   "outputs": [],
   "source": []
  }
 ],
 "metadata": {
  "kernelspec": {
   "display_name": "Python 2",
   "language": "python",
   "name": "python2"
  },
  "language_info": {
   "codemirror_mode": {
    "name": "ipython",
    "version": 2
   },
   "file_extension": ".py",
   "mimetype": "text/x-python",
   "name": "python",
   "nbconvert_exporter": "python",
   "pygments_lexer": "ipython2",
   "version": "2.7.10"
  }
 },
 "nbformat": 4,
 "nbformat_minor": 0
}
