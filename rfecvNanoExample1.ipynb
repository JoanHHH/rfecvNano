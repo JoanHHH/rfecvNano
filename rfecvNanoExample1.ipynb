{
 "worksheets": [
  {
   "cells": [
    {
     "cell_type": "markdown",
     "metadata": {},
     "source": [
      "## The transport of nanomaterials is difficult to predict. Using our developed machine learning tools, let's investigate if prediction is more powerful when we seperate the parameters than if we arrange the parameters as dimensionless ratios. \n"
     ]
    },
    {
     "cell_type": "code",
     "execution_count": null,
     "metadata": {},
     "outputs": [],
     "input": [
      ""
     ],
     "language": "python"
    }
   ]
  }
 ],
 "cells": [],
 "metadata": {},
 "nbformat": 3,
 "nbformat_minor": 0
}